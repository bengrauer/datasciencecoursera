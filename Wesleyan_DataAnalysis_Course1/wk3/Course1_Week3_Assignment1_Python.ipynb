{
 "cells": [
  {
   "cell_type": "code",
   "execution_count": 1,
   "metadata": {},
   "outputs": [
    {
     "name": "stdout",
     "output_type": "stream",
     "text": [
      "\n"
     ]
    }
   ],
   "source": [
    "''' Summary - BLOG POST\n",
    "\n",
    "    *Please note that instead of signing up for a Tumblr account, I have chosen to leverage an already existing \n",
    "        account on Github to consolidate work and platforms.\n",
    "\n",
    "    For this exercise I have binned the majority of variables for better categorization and interpretation.  \n",
    "        In addition, deriving the defaulted variable from existing variables to determine if a loan was defaulted.\n",
    "\n",
    "    Variables: \n",
    "        1) purpose - This is the purpose of why the loan was requested.  A high level grouping of the loan types.\n",
    "            \n",
    "        2) int_rate - What interest rate the loan is at\n",
    "            binned with variable \"int_rate_bin\"\n",
    "            \n",
    "        3) dti - Debt to income ratio\n",
    "            binned with variable \"dti_bin\"\n",
    "            \n",
    "        4) revol_util - revolving credit utilization\n",
    "            binned with variable \"revol_util_bin\"\n",
    "            \n",
    "        5) defaulted - Dervied variable from the columns \"recoveries\" and \"collection_recovery_fee\".  If either of these have values populated \n",
    "            greater than 0, then we can assume that a default event occured.  \n",
    "'''\n",
    "\n",
    "print('')"
   ]
  },
  {
   "cell_type": "code",
   "execution_count": 2,
   "metadata": {
    "collapsed": true
   },
   "outputs": [],
   "source": [
    "# imports\n",
    "import pandas\n",
    "import numpy"
   ]
  },
  {
   "cell_type": "code",
   "execution_count": 3,
   "metadata": {
    "collapsed": true
   },
   "outputs": [],
   "source": [
    "# set working directory\n",
    "directory = '//Project/OneDrive/Coursera/Wesleyan_Course1/wk1_Assignment/'"
   ]
  },
  {
   "cell_type": "code",
   "execution_count": 4,
   "metadata": {
    "collapsed": true
   },
   "outputs": [],
   "source": [
    "# load the data set\n",
    "pdLoans = pandas.read_csv(directory + 'LoanStats3a.csv', low_memory=False)"
   ]
  },
  {
   "cell_type": "code",
   "execution_count": 5,
   "metadata": {
    "collapsed": true
   },
   "outputs": [],
   "source": [
    "# Convert the data elements - just doing in \n",
    "pdLoans[\"int_rate_d\"] = pandas.to_numeric(pdLoans[\"int_rate\"].str.replace('%',''), errors='coerce')\n",
    "pdLoans[\"revol_util_d\"] = pandas.to_numeric(pdLoans[\"revol_util\"].str.replace('%',''), errors='coerce')\n",
    "\n",
    "# divide by 100 to get the true percentage\n",
    "pdLoans[\"int_rate_d\"] = pdLoans[\"int_rate_d\"] / 100.00\n",
    "pdLoans[\"revol_util_d\"] = pdLoans[\"revol_util_d\"] / 100.00"
   ]
  },
  {
   "cell_type": "code",
   "execution_count": 6,
   "metadata": {
    "collapsed": true
   },
   "outputs": [],
   "source": [
    "# Convert and Bin the data\n",
    "pdLoans['int_rate_bin'] = pandas.cut(pdLoans.int_rate_d, [0.0,0.10,0.15,0.20,0.25,0.30])\n",
    "pdLoans['dti_bin'] = pandas.cut(pdLoans.dti, [0,1,10,20,30])\n",
    "pdLoans['revol_util_bin'] = pandas.cut(pdLoans.revol_util_d, [0,0.25,0.5,0.75,1])"
   ]
  },
  {
   "cell_type": "code",
   "execution_count": 7,
   "metadata": {
    "collapsed": true
   },
   "outputs": [],
   "source": [
    "# Add a veriable for recoveries / collection_recovery_fee.  \n",
    "# If either is greather than 0, then assign a 1 to indicate a default\n",
    "# Create a function to Map\n",
    "def set_Defaulted (row):\n",
    "    if row['recoveries'] > 0:\n",
    "        return 1\n",
    "    if row['collection_recovery_fee'] > 0:\n",
    "        return 1\n",
    "    else:\n",
    "        return 0 "
   ]
  },
  {
   "cell_type": "code",
   "execution_count": 8,
   "metadata": {
    "collapsed": true
   },
   "outputs": [],
   "source": [
    "pdLoans['defaulted'] = pdLoans.apply(lambda row: set_Defaulted(row), axis=1)"
   ]
  },
  {
   "cell_type": "code",
   "execution_count": 9,
   "metadata": {
    "collapsed": true
   },
   "outputs": [],
   "source": [
    "# \"\"purpose\" int_rate\", \"dti\", \"revol_util\" and \"recoveries\""
   ]
  },
  {
   "cell_type": "code",
   "execution_count": 10,
   "metadata": {},
   "outputs": [
    {
     "name": "stdout",
     "output_type": "stream",
     "text": [
      "counts/percentages for PURPOSE OF LOAN\n",
      "debt_consolidation    19776\n",
      "credit_card            5477\n",
      "other                  4425\n",
      "home_improvement       3199\n",
      "major_purchase         2311\n",
      "small_business         1992\n",
      "car                    1615\n",
      "wedding                1004\n",
      "medical                 753\n",
      "moving                  629\n",
      "house                   426\n",
      "educational             422\n",
      "vacation                400\n",
      "renewable_energy        106\n",
      "Name: purpose, dtype: int64\n",
      "\n",
      "debt_consolidation    0.464935\n",
      "credit_card           0.128765\n",
      "other                 0.104032\n",
      "home_improvement      0.075209\n",
      "major_purchase        0.054332\n",
      "small_business        0.046832\n",
      "car                   0.037969\n",
      "wedding               0.023604\n",
      "medical               0.017703\n",
      "moving                0.014788\n",
      "house                 0.010015\n",
      "educational           0.009921\n",
      "vacation              0.009404\n",
      "renewable_energy      0.002492\n",
      "Name: purpose, dtype: float64\n"
     ]
    }
   ],
   "source": [
    "# Examining frequency distributions\n",
    "print(\"counts/percentages for PURPOSE OF LOAN\")\n",
    "c1 = pdLoans[\"purpose\"].value_counts(sort=True)\n",
    "p1 = pdLoans[\"purpose\"].value_counts(sort=True, normalize=True)\n",
    "print(c1)\n",
    "print('')\n",
    "print(p1)"
   ]
  },
  {
   "cell_type": "code",
   "execution_count": 11,
   "metadata": {},
   "outputs": [
    {
     "name": "stdout",
     "output_type": "stream",
     "text": [
      "counts/percentages for INTEREST RATES\n",
      "(0.1, 0.15]    20360\n",
      "(0.0, 0.1]     12593\n",
      "(0.15, 0.2]     8643\n",
      "(0.2, 0.25]      939\n",
      "(0.25, 0.3]        0\n",
      "Name: int_rate_bin, dtype: int64\n",
      "\n",
      "(0.1, 0.15]    0.478665\n",
      "(0.0, 0.1]     0.296062\n",
      "(0.15, 0.2]    0.203197\n",
      "(0.2, 0.25]    0.022076\n",
      "(0.25, 0.3]    0.000000\n",
      "Name: int_rate_bin, dtype: float64\n"
     ]
    }
   ],
   "source": [
    "print(\"counts/percentages for INTEREST RATES\")\n",
    "c1 = pdLoans[\"int_rate_bin\"].value_counts(sort=True)\n",
    "p1 = pdLoans[\"int_rate_bin\"].value_counts(sort=True, normalize=True)\n",
    "print(c1)\n",
    "print('')\n",
    "print(p1)"
   ]
  },
  {
   "cell_type": "code",
   "execution_count": 12,
   "metadata": {},
   "outputs": [
    {
     "name": "stdout",
     "output_type": "stream",
     "text": [
      "counts/percentages for DEBT TO INCOME RATIO\n",
      "(10, 20]    20251\n",
      "(1, 10]     13002\n",
      "(20, 30]     8188\n",
      "(0, 1]        888\n",
      "Name: dti_bin, dtype: int64\n",
      "\n",
      "(10, 20]    0.478419\n",
      "(1, 10]     0.307165\n",
      "(20, 30]    0.193437\n",
      "(0, 1]      0.020979\n",
      "Name: dti_bin, dtype: float64\n"
     ]
    }
   ],
   "source": [
    "print(\"counts/percentages for DEBT TO INCOME RATIO\")\n",
    "c1 = pdLoans[\"dti_bin\"].value_counts(sort=True)\n",
    "p1 = pdLoans[\"dti_bin\"].value_counts(sort=True, normalize=True)\n",
    "print(c1)\n",
    "print('')\n",
    "print(p1)"
   ]
  },
  {
   "cell_type": "code",
   "execution_count": 13,
   "metadata": {},
   "outputs": [
    {
     "name": "stdout",
     "output_type": "stream",
     "text": [
      "counts/percentages for REVOLVING UTILIZATION RATE\n",
      "(0.5, 0.75]    11413\n",
      "(0.25, 0.5]    11076\n",
      "(0.75, 1.0]     9590\n",
      "(0.0, 0.25]     9269\n",
      "Name: revol_util_bin, dtype: int64\n",
      "\n",
      "(0.5, 0.75]    0.276023\n",
      "(0.25, 0.5]    0.267873\n",
      "(0.75, 1.0]    0.231934\n",
      "(0.0, 0.25]    0.224170\n",
      "Name: revol_util_bin, dtype: float64\n"
     ]
    }
   ],
   "source": [
    "print(\"counts/percentages for REVOLVING UTILIZATION RATE\")\n",
    "c1 = pdLoans[\"revol_util_bin\"].value_counts(sort=True)\n",
    "p1 = pdLoans[\"revol_util_bin\"].value_counts(sort=True, normalize=True)\n",
    "print(c1)\n",
    "print('')\n",
    "print(p1)"
   ]
  },
  {
   "cell_type": "code",
   "execution_count": 14,
   "metadata": {},
   "outputs": [
    {
     "name": "stdout",
     "output_type": "stream",
     "text": [
      "counts/percentages for DEFAULTS\n",
      "0    36188\n",
      "1     6347\n",
      "Name: defaulted, dtype: int64\n",
      "\n",
      "0    0.850782\n",
      "1    0.149218\n",
      "Name: defaulted, dtype: float64\n"
     ]
    }
   ],
   "source": [
    "print(\"counts/percentages for DEFAULTS\")\n",
    "c1 = pdLoans[\"defaulted\"].value_counts(sort=True)\n",
    "p1 = pdLoans[\"defaulted\"].value_counts(sort=True, normalize=True)\n",
    "print(c1)\n",
    "print('')\n",
    "print(p1)"
   ]
  }
 ],
 "metadata": {
  "kernelspec": {
   "display_name": "Python 3",
   "language": "python",
   "name": "python3"
  },
  "language_info": {
   "codemirror_mode": {
    "name": "ipython",
    "version": 3
   },
   "file_extension": ".py",
   "mimetype": "text/x-python",
   "name": "python",
   "nbconvert_exporter": "python",
   "pygments_lexer": "ipython3",
   "version": "3.6.2"
  }
 },
 "nbformat": 4,
 "nbformat_minor": 2
}
