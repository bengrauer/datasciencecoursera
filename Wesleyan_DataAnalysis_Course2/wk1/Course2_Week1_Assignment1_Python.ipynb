{
 "cells": [
  {
   "cell_type": "markdown",
   "metadata": {},
   "source": [
    "<a id='home_cell'></a>\n",
    "## BLOG POST - ANOVA \n",
    "\n",
    "*Please note I have chosen to use GitHub / Jupyter notebooks in substitute of Tumblr for my blog assignments\n",
    "\n",
    "The null hypothesis is that between defaulted and non-defaulted the loans, numerous variables would be the same\n",
    "between the two categories.  Some of those variables include: interest rate, debt-to-income, and revolving utilization.\n",
    "    \n",
    "For this exercise, when exploring my initial variables, I kept receving p-values barely above 0.  < 0.001.  Becuase of \n",
    "this, there is strong evidence against the null hypothesis, and I would reject the null hypothesis.  We wouldn't expect\n",
    "data as extreme as the data we actually observed. "
   ]
  },
  {
   "cell_type": "code",
   "execution_count": 1,
   "metadata": {
    "collapsed": true
   },
   "outputs": [],
   "source": [
    "# imports\n",
    "import pandas\n",
    "import numpy\n",
    "import seaborn\n",
    "import matplotlib.pyplot as plt\n",
    "\n",
    "# here the stats\n",
    "import statsmodels.formula.api as smf\n",
    "import statsmodels.formula.api as smf\n",
    "import statsmodels.stats.multicomp as multi "
   ]
  },
  {
   "cell_type": "code",
   "execution_count": 2,
   "metadata": {
    "collapsed": true
   },
   "outputs": [],
   "source": [
    "# =====================\n",
    "# 2. DATA IMPORT \n",
    "# =====================\n",
    "# set working directory\n",
    "directory = '//Project/OneDrive/Coursera/Wesleyan_Course1/wk1_Assignment/'\n",
    "\n",
    "pdLoans = pandas.read_csv(directory + 'LoanStats3a.csv', low_memory=False)\n",
    "\n",
    "# =======================\n",
    "#  3. DATA TRANSFORMATIONS \n",
    "#  ======================= \n",
    "# Convert the data elements - just doing in \n",
    "pdLoans[\"int_rate_d\"] = pandas.to_numeric(pdLoans[\"int_rate\"].str.replace('%',''), errors='coerce')\n",
    "pdLoans[\"revol_util_d\"] = pandas.to_numeric(pdLoans[\"revol_util\"].str.replace('%',''), errors='coerce')\n",
    "\n",
    "# divide by 100 to get the true percentage\n",
    "pdLoans[\"int_rate_d\"] = pdLoans[\"int_rate_d\"] / 100.00\n",
    "pdLoans[\"revol_util_d\"] = pdLoans[\"revol_util_d\"] / 100.00\n",
    "\n",
    "# Convert and Bin the data\n",
    "pdLoans['int_rate_bin'] = pandas.cut(pdLoans.int_rate_d, [0.0,0.10,0.15,0.20,0.25,0.30])\n",
    "pdLoans['dti_bin'] = pandas.cut(pdLoans.dti, [0,1,10,20,30])\n",
    "pdLoans['revol_util_bin'] = pandas.cut(pdLoans.revol_util_d, [0,0.25,0.5,0.75,1])\n",
    "\n",
    "# Add a veriable for recoveries / collection_recovery_fee.  \n",
    "# If either is greather than 0, then assign a 1 to indicate a default\n",
    "# Create a function to Map\n",
    "def set_Defaulted (row):\n",
    "    if row['recoveries'] > 0:\n",
    "        return 1\n",
    "    if row['collection_recovery_fee'] > 0:\n",
    "        return 1\n",
    "    else:\n",
    "        return 0 \n",
    "\n",
    "pdLoans['defaulted'] = pdLoans.apply(lambda row: set_Defaulted(row), axis=1)\n",
    "\n",
    "# Here split out separate date set for the defaulted loans - for analayis use later\n",
    "pdLoansDefaulted = pdLoans[pdLoans['defaulted'] == 1]"
   ]
  },
  {
   "cell_type": "markdown",
   "metadata": {},
   "source": [
    "## p-value analysis \n",
    "<a id='p_values'></a>"
   ]
  },
  {
   "cell_type": "code",
   "execution_count": 3,
   "metadata": {
    "collapsed": true
   },
   "outputs": [],
   "source": [
    "## I believe for this excercise - I can use the defaulted variable against the %'s above"
   ]
  },
  {
   "cell_type": "code",
   "execution_count": 4,
   "metadata": {},
   "outputs": [
    {
     "name": "stdout",
     "output_type": "stream",
     "text": [
      "                            OLS Regression Results                            \n",
      "==============================================================================\n",
      "Dep. Variable:             int_rate_d   R-squared:                       0.040\n",
      "Model:                            OLS   Adj. R-squared:                  0.040\n",
      "Method:                 Least Squares   F-statistic:                     1753.\n",
      "Date:                Mon, 18 Sep 2017   Prob (F-statistic):               0.00\n",
      "Time:                        16:06:26   Log-Likelihood:                 80645.\n",
      "No. Observations:               42535   AIC:                        -1.613e+05\n",
      "Df Residuals:                   42533   BIC:                        -1.613e+05\n",
      "Df Model:                           1                                         \n",
      "Covariance Type:            nonrobust                                         \n",
      "=====================================================================================\n",
      "                        coef    std err          t      P>|t|      [0.025      0.975]\n",
      "-------------------------------------------------------------------------------------\n",
      "Intercept             0.1186      0.000    620.664      0.000       0.118       0.119\n",
      "C(defaulted)[T.1]     0.0207      0.000     41.874      0.000       0.020       0.022\n",
      "==============================================================================\n",
      "Omnibus:                     1015.750   Durbin-Watson:                   1.889\n",
      "Prob(Omnibus):                  0.000   Jarque-Bera (JB):              781.948\n",
      "Skew:                           0.246   Prob(JB):                    1.59e-170\n",
      "Kurtosis:                       2.554   Cond. No.                         2.88\n",
      "==============================================================================\n",
      "\n",
      "Warnings:\n",
      "[1] Standard Errors assume that the covariance matrix of the errors is correctly specified.\n"
     ]
    }
   ],
   "source": [
    "model_int_rate_d = smf.ols(formula='int_rate_d ~ C(defaulted)', data=pdLoans)\n",
    "results1 = model_int_rate_d.fit()\n",
    "print(results1.summary())"
   ]
  },
  {
   "cell_type": "code",
   "execution_count": 5,
   "metadata": {},
   "outputs": [
    {
     "name": "stdout",
     "output_type": "stream",
     "text": [
      "                            OLS Regression Results                            \n",
      "==============================================================================\n",
      "Dep. Variable:           revol_util_d   R-squared:                       0.009\n",
      "Model:                            OLS   Adj. R-squared:                  0.009\n",
      "Method:                 Least Squares   F-statistic:                     384.3\n",
      "Date:                Mon, 18 Sep 2017   Prob (F-statistic):           3.51e-85\n",
      "Time:                        16:06:27   Log-Likelihood:                -6552.7\n",
      "No. Observations:               42445   AIC:                         1.311e+04\n",
      "Df Residuals:                   42443   BIC:                         1.313e+04\n",
      "Df Model:                           1                                         \n",
      "Covariance Type:            nonrobust                                         \n",
      "=====================================================================================\n",
      "                        coef    std err          t      P>|t|      [0.025      0.975]\n",
      "-------------------------------------------------------------------------------------\n",
      "Intercept             0.4799      0.001    323.021      0.000       0.477       0.483\n",
      "C(defaulted)[T.1]     0.0754      0.004     19.603      0.000       0.068       0.083\n",
      "==============================================================================\n",
      "Omnibus:                    15308.420   Durbin-Watson:                   1.936\n",
      "Prob(Omnibus):                  0.000   Jarque-Bera (JB):             2070.974\n",
      "Skew:                          -0.044   Prob(JB):                         0.00\n",
      "Kurtosis:                       1.921   Cond. No.                         2.88\n",
      "==============================================================================\n",
      "\n",
      "Warnings:\n",
      "[1] Standard Errors assume that the covariance matrix of the errors is correctly specified.\n"
     ]
    }
   ],
   "source": [
    "model_revol_util_d = smf.ols(formula='revol_util_d ~ C(defaulted)', data=pdLoans)\n",
    "results2 = model_revol_util_d.fit()\n",
    "print(results2.summary())"
   ]
  },
  {
   "cell_type": "code",
   "execution_count": 6,
   "metadata": {},
   "outputs": [
    {
     "name": "stdout",
     "output_type": "stream",
     "text": [
      "                            OLS Regression Results                            \n",
      "==============================================================================\n",
      "Dep. Variable:                    dti   R-squared:                       0.002\n",
      "Model:                            OLS   Adj. R-squared:                  0.002\n",
      "Method:                 Least Squares   F-statistic:                     72.31\n",
      "Date:                Mon, 18 Sep 2017   Prob (F-statistic):           1.90e-17\n",
      "Time:                        16:06:27   Log-Likelihood:            -1.4139e+05\n",
      "No. Observations:               42535   AIC:                         2.828e+05\n",
      "Df Residuals:                   42533   BIC:                         2.828e+05\n",
      "Df Model:                           1                                         \n",
      "Covariance Type:            nonrobust                                         \n",
      "=====================================================================================\n",
      "                        coef    std err          t      P>|t|      [0.025      0.975]\n",
      "-------------------------------------------------------------------------------------\n",
      "Intercept            13.2570      0.035    375.244      0.000      13.188      13.326\n",
      "C(defaulted)[T.1]     0.7777      0.091      8.504      0.000       0.598       0.957\n",
      "==============================================================================\n",
      "Omnibus:                     4496.020   Durbin-Watson:                   1.978\n",
      "Prob(Omnibus):                  0.000   Jarque-Bera (JB):             1273.048\n",
      "Skew:                          -0.029   Prob(JB):                    3.64e-277\n",
      "Kurtosis:                       2.154   Cond. No.                         2.88\n",
      "==============================================================================\n",
      "\n",
      "Warnings:\n",
      "[1] Standard Errors assume that the covariance matrix of the errors is correctly specified.\n"
     ]
    }
   ],
   "source": [
    "model_dti = smf.ols(formula='dti ~ C(defaulted)', data=pdLoans)\n",
    "results3 = model_dti.fit()\n",
    "print(results3.summary())"
   ]
  },
  {
   "cell_type": "code",
   "execution_count": 7,
   "metadata": {},
   "outputs": [
    {
     "name": "stdout",
     "output_type": "stream",
     "text": [
      "mean of defaulted loans\n",
      "           int_rate_d        dti  revol_util_d     loan_amnt\n",
      "defaulted                                                   \n",
      "0            0.118560  13.256994      0.479929  10961.596386\n",
      "1            0.139267  14.034706      0.555376  11820.245785\n"
     ]
    }
   ],
   "source": [
    "# After p-values above being 0, I want to take a closer look at the just the variables to be analyzed \n",
    "print('mean of defaulted loans')\n",
    "pdSubSetVariables = pdLoans[['int_rate_d','dti','revol_util_d','defaulted','loan_amnt']]\n",
    "mean1 = pdSubSetVariables.groupby('defaulted').mean()\n",
    "print(mean1)"
   ]
  },
  {
   "cell_type": "code",
   "execution_count": 8,
   "metadata": {},
   "outputs": [
    {
     "name": "stdout",
     "output_type": "stream",
     "text": [
      "                            OLS Regression Results                            \n",
      "==============================================================================\n",
      "Dep. Variable:             int_rate_d   R-squared:                       0.026\n",
      "Model:                            OLS   Adj. R-squared:                  0.026\n",
      "Method:                 Least Squares   F-statistic:                     87.78\n",
      "Date:                Mon, 18 Sep 2017   Prob (F-statistic):          1.26e-232\n",
      "Time:                        16:06:28   Log-Likelihood:                 80349.\n",
      "No. Observations:               42535   AIC:                        -1.607e+05\n",
      "Df Residuals:                   42521   BIC:                        -1.605e+05\n",
      "Df Model:                          13                                         \n",
      "Covariance Type:            nonrobust                                         \n",
      "====================================================================================================\n",
      "                                       coef    std err          t      P>|t|      [0.025      0.975]\n",
      "----------------------------------------------------------------------------------------------------\n",
      "Intercept                            0.1065      0.001    116.965      0.000       0.105       0.108\n",
      "C(purpose)[T.credit_card]            0.0119      0.001     11.492      0.000       0.010       0.014\n",
      "C(purpose)[T.debt_consolidation]     0.0195      0.001     20.636      0.000       0.018       0.021\n",
      "C(purpose)[T.educational]            0.0147      0.002      7.347      0.000       0.011       0.019\n",
      "C(purpose)[T.home_improvement]       0.0094      0.001      8.454      0.000       0.007       0.012\n",
      "C(purpose)[T.house]                  0.0176      0.002      8.828      0.000       0.014       0.022\n",
      "C(purpose)[T.major_purchase]         0.0036      0.001      3.049      0.002       0.001       0.006\n",
      "C(purpose)[T.medical]                0.0103      0.002      6.390      0.000       0.007       0.013\n",
      "C(purpose)[T.moving]                 0.0110      0.002      6.402      0.000       0.008       0.014\n",
      "C(purpose)[T.other]                  0.0133      0.001     12.541      0.000       0.011       0.015\n",
      "C(purpose)[T.renewable_energy]       0.0088      0.004      2.388      0.017       0.002       0.016\n",
      "C(purpose)[T.small_business]         0.0251      0.001     20.465      0.000       0.023       0.027\n",
      "C(purpose)[T.vacation]               0.0030      0.002      1.468      0.142      -0.001       0.007\n",
      "C(purpose)[T.wedding]                0.0138      0.001      9.398      0.000       0.011       0.017\n",
      "==============================================================================\n",
      "Omnibus:                     1016.999   Durbin-Watson:                   1.889\n",
      "Prob(Omnibus):                  0.000   Jarque-Bera (JB):              758.343\n",
      "Skew:                           0.234   Prob(JB):                    2.13e-165\n",
      "Kurtosis:                       2.543   Cond. No.                         25.6\n",
      "==============================================================================\n",
      "\n",
      "Warnings:\n",
      "[1] Standard Errors assume that the covariance matrix of the errors is correctly specified.\n"
     ]
    }
   ],
   "source": [
    "# The defaulte value (0 or 1 for defaulted loan or not) didn't really produce anything.\n",
    "# So I changed it up to show the Pupose of the loan instead of defaulted value\n",
    "model_dti_purpose = smf.ols(formula='int_rate_d ~ C(purpose)', data=pdLoans)\n",
    "results4 = model_dti_purpose.fit()\n",
    "print(results4.summary())"
   ]
  },
  {
   "cell_type": "markdown",
   "metadata": {},
   "source": [
    "## post-hoc test"
   ]
  },
  {
   "cell_type": "code",
   "execution_count": 9,
   "metadata": {},
   "outputs": [
    {
     "name": "stdout",
     "output_type": "stream",
     "text": [
      "          Multiple Comparison of Means - Tukey HSD,FWER=0.05         \n",
      "=====================================================================\n",
      "      group1             group2       meandiff  lower   upper  reject\n",
      "---------------------------------------------------------------------\n",
      "       car            credit_card      0.0119   0.0084  0.0154  True \n",
      "       car         debt_consolidation  0.0195   0.0164  0.0227  True \n",
      "       car            educational      0.0147   0.008   0.0214  True \n",
      "       car          home_improvement   0.0094   0.0057  0.0132  True \n",
      "       car               house         0.0176   0.0109  0.0243  True \n",
      "       car           major_purchase    0.0036  -0.0004  0.0076 False \n",
      "       car              medical        0.0103   0.0049  0.0157  True \n",
      "       car               moving        0.011    0.0052  0.0168  True \n",
      "       car               other         0.0133   0.0098  0.0169  True \n",
      "       car          renewable_energy   0.0088  -0.0035  0.0211 False \n",
      "       car           small_business    0.0251   0.021   0.0292  True \n",
      "       car              vacation       0.003   -0.0039  0.0099 False \n",
      "       car              wedding        0.0138   0.0089  0.0188  True \n",
      "   credit_card     debt_consolidation  0.0076   0.0058  0.0095  True \n",
      "   credit_card        educational      0.0028  -0.0034  0.009  False \n",
      "   credit_card      home_improvement  -0.0025  -0.0052  0.0003 False \n",
      "   credit_card           house         0.0057  -0.0005  0.0119 False \n",
      "   credit_card       major_purchase   -0.0083  -0.0113 -0.0052  True \n",
      "   credit_card          medical       -0.0016  -0.0064  0.0032 False \n",
      "   credit_card           moving       -0.0009  -0.0061  0.0043 False \n",
      "   credit_card           other         0.0014   -0.001  0.0039 False \n",
      "   credit_card      renewable_energy  -0.0031  -0.0152  0.0089 False \n",
      "   credit_card       small_business    0.0132    0.01   0.0164  True \n",
      "   credit_card          vacation      -0.0089  -0.0153 -0.0026  True \n",
      "   credit_card          wedding        0.0019  -0.0023  0.0061 False \n",
      "debt_consolidation    educational     -0.0048  -0.0109  0.0012 False \n",
      "debt_consolidation  home_improvement  -0.0101  -0.0124 -0.0078  True \n",
      "debt_consolidation       house        -0.0019   -0.008  0.0041 False \n",
      "debt_consolidation   major_purchase   -0.0159  -0.0186 -0.0132  True \n",
      "debt_consolidation      medical       -0.0092  -0.0138 -0.0047  True \n",
      "debt_consolidation       moving       -0.0085  -0.0135 -0.0036  True \n",
      "debt_consolidation       other        -0.0062  -0.0082 -0.0042  True \n",
      "debt_consolidation  renewable_energy  -0.0108  -0.0227  0.0012 False \n",
      "debt_consolidation   small_business    0.0055   0.0026  0.0084  True \n",
      "debt_consolidation      vacation      -0.0165  -0.0227 -0.0103  True \n",
      "debt_consolidation      wedding       -0.0057  -0.0097 -0.0018  True \n",
      "   educational      home_improvement  -0.0053  -0.0116  0.0011 False \n",
      "   educational           house         0.0029  -0.0055  0.0113 False \n",
      "   educational       major_purchase   -0.0111  -0.0176 -0.0046  True \n",
      "   educational          medical       -0.0044  -0.0118  0.0031 False \n",
      "   educational           moving       -0.0037  -0.0114  0.004  False \n",
      "   educational           other        -0.0014  -0.0076  0.0049 False \n",
      "   educational      renewable_energy  -0.0059  -0.0193  0.0074 False \n",
      "   educational       small_business    0.0104   0.0038  0.017   True \n",
      "   educational          vacation      -0.0117  -0.0203 -0.0031  True \n",
      "   educational          wedding       -0.0009   -0.008  0.0062 False \n",
      " home_improvement        house         0.0082   0.0018  0.0145  True \n",
      " home_improvement    major_purchase   -0.0058  -0.0092 -0.0025  True \n",
      " home_improvement       medical        0.0009  -0.0041  0.0058 False \n",
      " home_improvement        moving        0.0016  -0.0038  0.0069 False \n",
      " home_improvement        other         0.0039   0.001   0.0067  True \n",
      " home_improvement   renewable_energy  -0.0007  -0.0128  0.0114 False \n",
      " home_improvement    small_business    0.0156   0.0121  0.0191  True \n",
      " home_improvement       vacation      -0.0064   -0.013  0.0001 False \n",
      " home_improvement       wedding        0.0044  -0.0001  0.0088 False \n",
      "      house          major_purchase    -0.014  -0.0205 -0.0075  True \n",
      "      house             medical       -0.0073  -0.0147  0.0002 False \n",
      "      house              moving       -0.0066  -0.0143  0.0011 False \n",
      "      house              other        -0.0043  -0.0105  0.002  False \n",
      "      house         renewable_energy  -0.0088  -0.0222  0.0045 False \n",
      "      house          small_business    0.0075   0.0009  0.014   True \n",
      "      house             vacation      -0.0146  -0.0231 -0.0061  True \n",
      "      house             wedding       -0.0038  -0.0109  0.0033 False \n",
      "  major_purchase        medical        0.0067   0.0015  0.0119  True \n",
      "  major_purchase         moving        0.0074   0.0019  0.0129  True \n",
      "  major_purchase         other         0.0097   0.0066  0.0129  True \n",
      "  major_purchase    renewable_energy   0.0051   -0.007  0.0173 False \n",
      "  major_purchase     small_business    0.0215   0.0177  0.0252  True \n",
      "  major_purchase        vacation      -0.0006  -0.0073  0.006  False \n",
      "  major_purchase        wedding        0.0102   0.0056  0.0148  True \n",
      "     medical             moving        0.0007  -0.0059  0.0073 False \n",
      "     medical             other         0.003   -0.0018  0.0079 False \n",
      "     medical        renewable_energy  -0.0016  -0.0143  0.0112 False \n",
      "     medical         small_business    0.0148   0.0095   0.02   True \n",
      "     medical            vacation      -0.0073  -0.0149  0.0003 False \n",
      "     medical            wedding        0.0035  -0.0024  0.0094 False \n",
      "      moving             other         0.0023  -0.0029  0.0076 False \n",
      "      moving        renewable_energy  -0.0022  -0.0151  0.0106 False \n",
      "      moving         small_business    0.0141   0.0085  0.0197  True \n",
      "      moving            vacation       -0.008  -0.0159 -0.0002  True \n",
      "      moving            wedding        0.0028  -0.0034  0.0091 False \n",
      "      other         renewable_energy  -0.0046  -0.0166  0.0075 False \n",
      "      other          small_business    0.0117   0.0084  0.015   True \n",
      "      other             vacation      -0.0103  -0.0168 -0.0039  True \n",
      "      other             wedding        0.0005  -0.0038  0.0048 False \n",
      " renewable_energy    small_business    0.0163   0.0041  0.0286  True \n",
      " renewable_energy       vacation      -0.0058  -0.0192  0.0076 False \n",
      " renewable_energy       wedding        0.0051  -0.0075  0.0176 False \n",
      "  small_business        vacation      -0.0221  -0.0288 -0.0154  True \n",
      "  small_business        wedding       -0.0113   -0.016 -0.0065  True \n",
      "     vacation           wedding        0.0108   0.0036  0.0181  True \n",
      "---------------------------------------------------------------------\n"
     ]
    }
   ],
   "source": [
    "# Post Hoc test with Tukey\n",
    "mc1 = multi.MultiComparison(pdLoans['int_rate_d'], pdLoans['purpose'])\n",
    "res1 = mc1.tukeyhsd()\n",
    "print(res1.summary())"
   ]
  }
 ],
 "metadata": {
  "kernelspec": {
   "display_name": "Python 3",
   "language": "python",
   "name": "python3"
  },
  "language_info": {
   "codemirror_mode": {
    "name": "ipython",
    "version": 3
   },
   "file_extension": ".py",
   "mimetype": "text/x-python",
   "name": "python",
   "nbconvert_exporter": "python",
   "pygments_lexer": "ipython3",
   "version": "3.6.2"
  }
 },
 "nbformat": 4,
 "nbformat_minor": 2
}
