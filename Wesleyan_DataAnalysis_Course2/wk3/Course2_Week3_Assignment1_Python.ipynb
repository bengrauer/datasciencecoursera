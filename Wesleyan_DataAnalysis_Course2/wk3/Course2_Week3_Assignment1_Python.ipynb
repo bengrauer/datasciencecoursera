{
 "cells": [
  {
   "cell_type": "markdown",
   "metadata": {},
   "source": [
    "<a id='home_cell'></a>\n",
    "## BLOG POST - Correlation \n",
    "\n",
    "*Please note I have chosen to use GitHub / Jupyter notebooks in substitute of Tumblr for my blog assignments\n",
    "\n",
    "I have chosen to analyze the correlation of my chosen continuous variables.  Mainly \"interest rate\", \"revolving utilization rate\", \n",
    "and \"debt to income ratio\".  For all loans there seems to be a very mild correlation (0.40) between \"interest rate\" and \"revolving utilization\".\n",
    "There was not much of a correlation between any of the other values.  When I filter the data down to only records that\n",
    "contain defaulted loans, the correlation does not change by much across the variables.\n",
    "\n",
    "I also tried to bring in the variable \"annual income\" to see if I could find a stronger correlation, but it just wansn't there.\n",
    "This lends me to believe that I may want to look elsewhere to see if I can find variables with a stronger correlation."
   ]
  },
  {
   "cell_type": "code",
   "execution_count": 1,
   "metadata": {
    "collapsed": true
   },
   "outputs": [],
   "source": [
    "# imports\n",
    "import pandas\n",
    "import numpy\n",
    "import seaborn\n",
    "import matplotlib.pyplot as plt\n",
    "\n",
    "import statsmodels.formula.api as smf\n",
    "import statsmodels.formula.api as smf\n",
    "import statsmodels.stats.multicomp as multi \n",
    "\n",
    "import scipy.stats"
   ]
  },
  {
   "cell_type": "code",
   "execution_count": 2,
   "metadata": {
    "collapsed": true
   },
   "outputs": [],
   "source": [
    "# =====================\n",
    "# 2. DATA IMPORT \n",
    "# =====================\n",
    "# set working directory\n",
    "directory = '//Project/OneDrive/Coursera/Wesleyan_Course1/wk1_Assignment/'\n",
    "\n",
    "pdLoans = pandas.read_csv(directory + 'LoanStats3a.csv', low_memory=False)\n",
    "\n",
    "# =======================\n",
    "#  3. DATA TRANSFORMATIONS \n",
    "#  ======================= \n",
    "# Convert the data elements - just doing in \n",
    "pdLoans[\"int_rate_d\"] = pandas.to_numeric(pdLoans[\"int_rate\"].str.replace('%',''), errors='coerce')\n",
    "pdLoans[\"revol_util_d\"] = pandas.to_numeric(pdLoans[\"revol_util\"].str.replace('%',''), errors='coerce')\n",
    "\n",
    "# divide by 100 to get the true percentage\n",
    "pdLoans[\"int_rate_d\"] = pdLoans[\"int_rate_d\"] / 100.00\n",
    "pdLoans[\"revol_util_d\"] = pdLoans[\"revol_util_d\"] / 100.00\n",
    "\n",
    "# Convert and Bin the data\n",
    "pdLoans['int_rate_bin'] = pandas.cut(pdLoans.int_rate_d, [0.0,0.10,0.15,0.20,0.25,0.30])\n",
    "pdLoans['dti_bin'] = pandas.cut(pdLoans.dti, [0,1,10,20,30])\n",
    "pdLoans['revol_util_bin'] = pandas.cut(pdLoans.revol_util_d, [0,0.25,0.5,0.75,1])\n",
    "\n",
    "# Add a veriable for recoveries / collection_recovery_fee.  \n",
    "# If either is greather than 0, then assign a 1 to indicate a default\n",
    "# Create a function to Map\n",
    "def set_Defaulted (row):\n",
    "    if row['recoveries'] > 0:\n",
    "        return 1\n",
    "    if row['collection_recovery_fee'] > 0:\n",
    "        return 1\n",
    "    else:\n",
    "        return 0 \n",
    "\n",
    "pdLoans['defaulted'] = pdLoans.apply(lambda row: set_Defaulted(row), axis=1)\n",
    "\n",
    "# Here split out separate date set for the defaulted loans - for analayis use later\n",
    "pdLoansDefaulted = pdLoans[pdLoans['defaulted'] == 1]"
   ]
  },
  {
   "cell_type": "markdown",
   "metadata": {},
   "source": [
    "## Correlation \n",
    "<a id='binn_analysis'></a>"
   ]
  },
  {
   "cell_type": "code",
   "execution_count": 3,
   "metadata": {
    "collapsed": true
   },
   "outputs": [],
   "source": [
    "## For this excercise - I can use the defaulted variable against the %'s above\n",
    "# defaulted\n",
    "# int_rate_d, int_rate_bin\n",
    "# dti\n",
    "# revol_util_d, revol_util_bin\n",
    "pdLoans = pdLoans.dropna()"
   ]
  },
  {
   "cell_type": "code",
   "execution_count": 4,
   "metadata": {},
   "outputs": [
    {
     "name": "stdout",
     "output_type": "stream",
     "text": [
      "correlation between interest rate and revolving utilization\n",
      "(0.40958522769965405, 0.0)\n",
      "\n",
      "correlation between interest rate and dti\n",
      "(0.12112010430861242, 2.9212028130803689e-50)\n",
      "\n",
      "correlation between revolving utilization rate and dti\n",
      "(0.22866501397370864, 1.1822578918418411e-177)\n",
      "\n",
      "correlation for interest rate and annual income\n",
      "(0.072460979747045531, 5.7015529956517014e-19)\n",
      "\n"
     ]
    }
   ],
   "source": [
    "# Correlation between interest rate and utilization rate\n",
    "print('correlation between interest rate and revolving utilization')\n",
    "print(scipy.stats.pearsonr(pdLoans['int_rate_d'], pdLoans['revol_util_d']))\n",
    "print('')\n",
    "\n",
    "# Correlation between interest rate and debt to income ratio\n",
    "print('correlation between interest rate and dti')\n",
    "print(scipy.stats.pearsonr(pdLoans['int_rate_d'], pdLoans['dti']))\n",
    "print('')\n",
    "\n",
    "# Correlation between utilization rate and debt to income ratio\n",
    "print('correlation between revolving utilization rate and dti')\n",
    "print(scipy.stats.pearsonr(pdLoans['revol_util_d'], pdLoans['dti']))\n",
    "print('')\n",
    "\n",
    "# may look at interest rate vs annual income - good one\n",
    "print('correlation for interest rate and annual income')\n",
    "print(scipy.stats.pearsonr(pdLoans['int_rate_d'], pdLoans['annual_inc']))\n",
    "print('')"
   ]
  },
  {
   "cell_type": "code",
   "execution_count": 6,
   "metadata": {},
   "outputs": [
    {
     "name": "stdout",
     "output_type": "stream",
     "text": [
      "correlation between interest rate and revolving utilization\n",
      "(0.35314601753444047, 6.6376404626066825e-73)\n",
      "\n",
      "correlation between interest rate and dti\n",
      "(0.085042600528379642, 2.4895610901613765e-05)\n",
      "\n",
      "correlation between revolving utilization rate and dti\n",
      "(0.18077153235306159, 1.8912732939165867e-19)\n",
      "\n",
      "correlation for interest rate and annual income\n",
      "(0.14405956386622318, 7.7328715237493429e-13)\n",
      "(-0.1147768851041597, 1.2103157724790295e-08)\n",
      "(0.045652787417182185, 0.023809816359843177)\n"
     ]
    }
   ],
   "source": [
    "# Now let's look at defaulted loans only - not much here\n",
    "pdLoansDefaulted = pdLoansDefaulted.dropna()\n",
    "\n",
    "# Correlation between interest rate and utilization rate\n",
    "print('correlation between interest rate and revolving utilization')\n",
    "print(scipy.stats.pearsonr(pdLoansDefaulted['int_rate_d'], pdLoansDefaulted['revol_util_d']))\n",
    "print('')\n",
    "\n",
    "# Correlation between interest rate and debt to income ratio\n",
    "print('correlation between interest rate and dti')\n",
    "print(scipy.stats.pearsonr(pdLoansDefaulted['int_rate_d'], pdLoansDefaulted['dti']))\n",
    "print('')\n",
    "\n",
    "# Correlation between utilization rate and debt to income ratio\n",
    "print('correlation between revolving utilization rate and dti')\n",
    "print(scipy.stats.pearsonr(pdLoansDefaulted['revol_util_d'], pdLoansDefaulted['dti']))\n",
    "print('')\n",
    "\n",
    "# Since none of the variables above show much correlation - may look at annual income - to try and find a more stronger correlation\n",
    "# not much luck either.  Slight negative correlation with dti / income.\n",
    "print('correlation for interest rate and annual income')\n",
    "print(scipy.stats.pearsonr(pdLoansDefaulted['int_rate_d'], pdLoansDefaulted['annual_inc']))\n",
    "print(scipy.stats.pearsonr(pdLoansDefaulted['dti'], pdLoansDefaulted['annual_inc']))\n",
    "print(scipy.stats.pearsonr(pdLoansDefaulted['revol_util_d'], pdLoansDefaulted['annual_inc']))"
   ]
  },
  {
   "cell_type": "code",
   "execution_count": null,
   "metadata": {
    "collapsed": true
   },
   "outputs": [],
   "source": []
  }
 ],
 "metadata": {
  "kernelspec": {
   "display_name": "Python 3",
   "language": "python",
   "name": "python3"
  },
  "language_info": {
   "codemirror_mode": {
    "name": "ipython",
    "version": 3
   },
   "file_extension": ".py",
   "mimetype": "text/x-python",
   "name": "python",
   "nbconvert_exporter": "python",
   "pygments_lexer": "ipython3",
   "version": "3.6.2"
  }
 },
 "nbformat": 4,
 "nbformat_minor": 2
}
