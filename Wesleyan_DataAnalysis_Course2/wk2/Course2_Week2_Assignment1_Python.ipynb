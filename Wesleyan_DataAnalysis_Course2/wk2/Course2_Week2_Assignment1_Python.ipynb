{
 "cells": [
  {
   "cell_type": "markdown",
   "metadata": {},
   "source": [
    "<a id='home_cell'></a>\n",
    "## BLOG POST - CHI SQUARE \n",
    "\n",
    "*Please note I have chosen to use GitHub / Jupyter notebooks in substitute of Tumblr for my blog assignments\n",
    "\n",
    "Upon analysis of the purpose of the loan, I notice that \"debt consolition\" has the highest percentage of defaults vs \n",
    "non-defaults coming in at 7.13%.  It is also important to note that this category contains the highest number of \n",
    "loans overall across all the groups.\n",
    "\n",
    "Upon analyzing the default vs binned interest rates, I notice that the 10% - 15% group has the highest percentage of \n",
    "defaulted loans at 7.30%.  At the lowest and highest bins of the interest rates (0% - 10%, 20% - 25%), it actually has \n",
    "the lowest number percentage of loans in default.  The debt to income ratio bin follows the same pattern.  My original \n",
    "reserach question - do higher interest rates / debt to income ratios lend to higher defaults.  \n",
    "For now the answer is no, higher interest rates and dti do NOT lend to higher defaults. \n",
    "\n",
    "In addition, for each individual test of the interest rate, the p-value is less \n",
    "than 0.05 to indicate that this test is significant and they are associated."
   ]
  },
  {
   "cell_type": "code",
   "execution_count": 7,
   "metadata": {
    "collapsed": true
   },
   "outputs": [],
   "source": [
    "# imports\n",
    "import pandas\n",
    "import numpy\n",
    "import seaborn\n",
    "import matplotlib.pyplot as plt\n",
    "\n",
    "import statsmodels.formula.api as smf\n",
    "import statsmodels.formula.api as smf\n",
    "import statsmodels.stats.multicomp as multi \n",
    "\n",
    "import scipy.stats"
   ]
  },
  {
   "cell_type": "code",
   "execution_count": 8,
   "metadata": {
    "collapsed": true
   },
   "outputs": [],
   "source": [
    "# =====================\n",
    "# 2. DATA IMPORT \n",
    "# =====================\n",
    "# set working directory\n",
    "directory = '//Project/OneDrive/Coursera/Wesleyan_Course1/wk1_Assignment/'\n",
    "\n",
    "pdLoans = pandas.read_csv(directory + 'LoanStats3a.csv', low_memory=False)\n",
    "\n",
    "# =======================\n",
    "#  3. DATA TRANSFORMATIONS \n",
    "#  ======================= \n",
    "# Convert the data elements - just doing in \n",
    "pdLoans[\"int_rate_d\"] = pandas.to_numeric(pdLoans[\"int_rate\"].str.replace('%',''), errors='coerce')\n",
    "pdLoans[\"revol_util_d\"] = pandas.to_numeric(pdLoans[\"revol_util\"].str.replace('%',''), errors='coerce')\n",
    "\n",
    "# divide by 100 to get the true percentage\n",
    "pdLoans[\"int_rate_d\"] = pdLoans[\"int_rate_d\"] / 100.00\n",
    "pdLoans[\"revol_util_d\"] = pdLoans[\"revol_util_d\"] / 100.00\n",
    "\n",
    "# Convert and Bin the data\n",
    "pdLoans['int_rate_bin'] = pandas.cut(pdLoans.int_rate_d, [0.0,0.10,0.15,0.20,0.25,0.30])\n",
    "pdLoans['dti_bin'] = pandas.cut(pdLoans.dti, [0,1,10,20,30])\n",
    "pdLoans['revol_util_bin'] = pandas.cut(pdLoans.revol_util_d, [0,0.25,0.5,0.75,1])\n",
    "\n",
    "# Add a veriable for recoveries / collection_recovery_fee.  \n",
    "# If either is greather than 0, then assign a 1 to indicate a default\n",
    "# Create a function to Map\n",
    "def set_Defaulted (row):\n",
    "    if row['recoveries'] > 0:\n",
    "        return 1\n",
    "    if row['collection_recovery_fee'] > 0:\n",
    "        return 1\n",
    "    else:\n",
    "        return 0 \n",
    "\n",
    "pdLoans['defaulted'] = pdLoans.apply(lambda row: set_Defaulted(row), axis=1)\n",
    "\n",
    "# Here split out separate date set for the defaulted loans - for analayis use later\n",
    "pdLoansDefaulted = pdLoans[pdLoans['defaulted'] == 1]"
   ]
  },
  {
   "cell_type": "markdown",
   "metadata": {},
   "source": [
    "## binned data analysis - counts and percentages \n",
    "<a id='binn_analysis'></a>"
   ]
  },
  {
   "cell_type": "code",
   "execution_count": 9,
   "metadata": {
    "collapsed": true
   },
   "outputs": [],
   "source": [
    "## For this excercise - I can use the defaulted variable against the %'s above\n",
    "# defaulted\n",
    "# int_rate_d, int_rate_bin\n",
    "# dti\n",
    "# revol_util_d, revol_util_bin"
   ]
  },
  {
   "cell_type": "code",
   "execution_count": 10,
   "metadata": {},
   "outputs": [
    {
     "name": "stdout",
     "output_type": "stream",
     "text": [
      "--== Contingency table of \"defaulted\" / \"interest rate\" bins ==--\n",
      "int_rate_bin  (0.0, 0.1]  (0.1, 0.15]  (0.15, 0.2]  (0.2, 0.25]\n",
      "defaulted                                                      \n",
      "0                  11735        17284         6550          619\n",
      "1                    858         3076         2093          320\n",
      "\n",
      "--== Contingency table of \"defaulted\" / \"debt to income\" bins ==--\n",
      "dti_bin    (0, 1]  (1, 10]  (10, 20]  (20, 30]\n",
      "defaulted                                     \n",
      "0             791    11299     17125      6807\n",
      "1              97     1703      3126      1381\n",
      "\n",
      "--== Contingency table of \"defaulted\" / \"revolving utilization\" bins ==--\n",
      "revol_util_bin  (0.0, 0.25]  (0.25, 0.5]  (0.5, 0.75]  (0.75, 1.0]\n",
      "defaulted                                                         \n",
      "0                      8358         9594         9546         7710\n",
      "1                       911         1482         1867         1880\n"
     ]
    }
   ],
   "source": [
    "# contingency count/table of observed counts\n",
    "print('--== Contingency table of \"defaulted\" / \"interest rate\" bins ==--')\n",
    "ct1 = pandas.crosstab(pdLoans['defaulted'], pdLoans['int_rate_bin'])\n",
    "print(ct1)\n",
    "\n",
    "print('')\n",
    "print('--== Contingency table of \"defaulted\" / \"debt to income\" bins ==--')\n",
    "ct2 = pandas.crosstab(pdLoans['defaulted'], pdLoans['dti_bin'])\n",
    "print(ct2)\n",
    "\n",
    "print('')\n",
    "print('--== Contingency table of \"defaulted\" / \"revolving utilization\" bins ==--')\n",
    "ct3 = pandas.crosstab(pdLoans['defaulted'], pdLoans['revol_util_bin'])\n",
    "print(ct3)"
   ]
  },
  {
   "cell_type": "code",
   "execution_count": 11,
   "metadata": {},
   "outputs": [
    {
     "name": "stdout",
     "output_type": "stream",
     "text": [
      "--== count of defaulted loans ==--\n",
      "\n",
      "           int_rate_d    dti  revol_util_d\n",
      "defaulted                                 \n",
      "0               36188  36188         36120\n",
      "1                6347   6347          6325\n"
     ]
    }
   ],
   "source": [
    "# For debugging only\n",
    "# After p-values above being 0, I want to take a closer look at the just the variables to be analyzed \n",
    "print('--== count of defaulted loans ==--')\n",
    "print('')\n",
    "pdSubSetVariables = pdLoans[['int_rate_d','dti','revol_util_d','defaulted']]\n",
    "subVariablesCount = pdSubSetVariables.groupby('defaulted').count()\n",
    "print(subVariablesCount)"
   ]
  },
  {
   "cell_type": "code",
   "execution_count": 12,
   "metadata": {},
   "outputs": [
    {
     "name": "stdout",
     "output_type": "stream",
     "text": [
      "\n",
      "--== percent of defaulted loans vs Interest Rate (binned) ==--\n",
      "\n",
      "int_rate_bin  (0.0, 0.1]  (0.1, 0.15]  (0.15, 0.2]  (0.2, 0.25]\n",
      "defaulted                                                      \n",
      "0               0.931867     0.848919     0.757839     0.659212\n",
      "1               0.068133     0.151081     0.242161     0.340788\n",
      "\n",
      "--== percent of defaulted loans vs Debt to Income (binned) ==--\n",
      "\n",
      "dti_bin      (0, 1]  (1, 10]  (10, 20]  (20, 30]\n",
      "defaulted                                       \n",
      "0          0.890766  0.86902  0.845637  0.831339\n",
      "1          0.109234  0.13098  0.154363  0.168661\n",
      "\n",
      "--== percent of defaulted loans vs Revolving Utilization (binned) ==--\n",
      "\n",
      "revol_util_bin  (0.0, 0.25]  (0.25, 0.5]  (0.5, 0.75]  (0.75, 1.0]\n",
      "defaulted                                                         \n",
      "0                  0.901715     0.866197     0.836415     0.803962\n",
      "1                  0.098285     0.133803     0.163585     0.196038\n"
     ]
    }
   ],
   "source": [
    "print('')\n",
    "print('--== percent of defaulted loans vs Interest Rate (binned) ==--')\n",
    "print('')\n",
    "colsum = ct1.sum(axis=0)\n",
    "colpct = ct1/colsum\n",
    "print(colpct)\n",
    "\n",
    "print('')\n",
    "print('--== percent of defaulted loans vs Debt to Income (binned) ==--')\n",
    "print('')\n",
    "colsum = ct2.sum(axis=0)\n",
    "colpct = ct2/colsum\n",
    "print(colpct)\n",
    "\n",
    "print('')\n",
    "print('--== percent of defaulted loans vs Revolving Utilization (binned) ==--')\n",
    "print('')\n",
    "colsum = ct3.sum(axis=0)\n",
    "colpct = ct3/colsum\n",
    "print(colpct)"
   ]
  },
  {
   "cell_type": "markdown",
   "metadata": {
    "collapsed": true
   },
   "source": [
    "## CHI SQUARE \n",
    "<a id='chi_sq_analysis'></a>"
   ]
  },
  {
   "cell_type": "code",
   "execution_count": 13,
   "metadata": {},
   "outputs": [
    {
     "name": "stdout",
     "output_type": "stream",
     "text": [
      "chi-square value, p value, expected counts\n",
      "\n",
      "--== percent of defaulted loans vs Interest Rate (binned) ==--\n",
      "(1512.2954834438528, 0.0, 3, array([[ 10713.89406371,  17321.91559892,   7353.30631245,    798.88402492],\n",
      "       [  1879.10593629,   3038.08440108,   1289.69368755,    140.11597508]]))\n",
      "\n",
      "--== percent of defaulted loans vs Debt to Income (binned) ==--\n",
      "(73.927853726234588, 6.1499900627480792e-16, 3, array([[   755.68844055,  11064.70845047,  17233.6110468 ,   6967.99206218],\n",
      "       [   132.31155945,   1937.29154953,   3017.3889532 ,   1220.00793782]]))\n",
      "\n",
      "--== percent of defaulted loans vs Revolving Utilization (binned) ==--\n",
      "(395.69835504408053, 1.8919495251238126e-85, 3, array([[ 7892.59340234,  9431.26168134,  9718.2186321 ,  8165.92628422],\n",
      "       [ 1376.40659766,  1644.73831866,  1694.7813679 ,  1424.07371578]]))\n",
      "\n"
     ]
    }
   ],
   "source": [
    "# chi-square\n",
    "print('chi-square value, p value, expected counts')\n",
    "print('')\n",
    "print('--== percent of defaulted loans vs Interest Rate (binned) ==--')\n",
    "cs1 = scipy.stats.chi2_contingency(ct1)\n",
    "print(cs1)\n",
    "print('')\n",
    "\n",
    "print('--== percent of defaulted loans vs Debt to Income (binned) ==--')\n",
    "cs2 = scipy.stats.chi2_contingency(ct2)\n",
    "print(cs2)\n",
    "print('')\n",
    "\n",
    "print('--== percent of defaulted loans vs Revolving Utilization (binned) ==--')\n",
    "cs3 = scipy.stats.chi2_contingency(ct3)\n",
    "print(cs3)\n",
    "print('')\n"
   ]
  },
  {
   "cell_type": "code",
   "execution_count": 14,
   "metadata": {},
   "outputs": [
    {
     "name": "stdout",
     "output_type": "stream",
     "text": [
      "chi-square value, p value, expected counts\n"
     ]
    }
   ],
   "source": [
    "# chi-square\n",
    "print('chi-square value, p value, expected counts')\n"
   ]
  },
  {
   "cell_type": "markdown",
   "metadata": {},
   "source": [
    "## multiple chi_square tests"
   ]
  },
  {
   "cell_type": "code",
   "execution_count": 15,
   "metadata": {},
   "outputs": [
    {
     "name": "stdout",
     "output_type": "stream",
     "text": [
      "\n",
      "--== Contingency table of \"defaulted\" / \"revolving utilization\" bins ==--\n",
      "revol_util_bin  (0.0, 0.25]  (0.25, 0.5]  (0.5, 0.75]  (0.75, 1.0]\n",
      "defaulted                                                         \n",
      "0                      8358         9594         9546         7710\n",
      "1                       911         1482         1867         1880\n",
      "\n",
      "--== percent of defaulted loans vs Revolving Utilization (binned) ==--\n",
      "\n",
      "revol_util_bin  (0.0, 0.25]  (0.25, 0.5]  (0.5, 0.75]  (0.75, 1.0]\n",
      "defaulted                                                         \n",
      "0                  0.901715     0.866197     0.836415     0.803962\n",
      "1                  0.098285     0.133803     0.163585     0.196038\n",
      "(395.69835504408053, 1.8919495251238126e-85, 3, array([[ 7892.59340234,  9431.26168134,  9718.2186321 ,  8165.92628422],\n",
      "       [ 1376.40659766,  1644.73831866,  1694.7813679 ,  1424.07371578]]))\n",
      "\n"
     ]
    }
   ],
   "source": [
    "# I have done interest rate alot.  I am going to use revolving utilization this time\n",
    "print('')\n",
    "print('--== Contingency table of \"defaulted\" / \"revolving utilization\" bins ==--')\n",
    "ct3 = pandas.crosstab(pdLoans['defaulted'], pdLoans['revol_util_bin'])\n",
    "print(ct3)\n",
    "\n",
    "\n",
    "print('')\n",
    "print('--== percent of defaulted loans vs Revolving Utilization (binned) ==--')\n",
    "print('')\n",
    "colsum = ct3.sum(axis=0)\n",
    "colpct = ct3/colsum\n",
    "print(colpct)\n",
    "\n",
    "\n",
    "cs3 = scipy.stats.chi2_contingency(ct3)\n",
    "print(cs3)\n",
    "print('')"
   ]
  }
 ],
 "metadata": {
  "kernelspec": {
   "display_name": "Python 3",
   "language": "python",
   "name": "python3"
  },
  "language_info": {
   "codemirror_mode": {
    "name": "ipython",
    "version": 3
   },
   "file_extension": ".py",
   "mimetype": "text/x-python",
   "name": "python",
   "nbconvert_exporter": "python",
   "pygments_lexer": "ipython3",
   "version": "3.6.2"
  }
 },
 "nbformat": 4,
 "nbformat_minor": 2
}
